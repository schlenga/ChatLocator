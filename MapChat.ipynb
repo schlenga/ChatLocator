{
 "cells": [
  {
   "cell_type": "code",
   "execution_count": 1,
   "metadata": {},
   "outputs": [],
   "source": [
    "import pandas as pd\n",
    "import matplotlib.pyplot as plt\n",
    "from datetime import datetime as dt\n",
    "import numpy as np\n",
    "import json\n",
    "%matplotlib inline"
   ]
  },
  {
   "cell_type": "code",
   "execution_count": 2,
   "metadata": {},
   "outputs": [],
   "source": [
    "location_as_json = pd.DataFrame(json.load(open('Standortverlauf.json', 'r')))"
   ]
  },
  {
   "cell_type": "code",
   "execution_count": 3,
   "metadata": {},
   "outputs": [],
   "source": [
    "# parse lat, lon, and timestamp from the dict inside the locations column\n",
    "location_as_json['latitude'] = location_as_json['locations'].map(lambda x: x['latitudeE7'])\n",
    "location_as_json['longitude'] = location_as_json['locations'].map(lambda x: x['longitudeE7'])\n",
    "location_as_json['timestamp_ms'] = location_as_json['locations'].map(lambda x: x['timestampMs'])\n",
    "\n",
    "# convert lat/lon to decimalized degrees and the timestamp to date-time\n",
    "location_as_json['latitude'] = location_as_json['latitude'] / 10.**7\n",
    "location_as_json['longitude'] = location_as_json['longitude'] / 10.**7\n",
    "location_as_json['timestamp_ms'] = location_as_json['timestamp_ms'].astype(float) / 1000\n",
    "location_as_json['datetime'] = location_as_json['timestamp_ms'].map(lambda x: dt.fromtimestamp(x).strftime('%Y-%m-%d %H:%M:%S'))"
   ]
  },
  {
   "cell_type": "code",
   "execution_count": 4,
   "metadata": {},
   "outputs": [],
   "source": [
    "location_as_json.set_index(['datetime'], inplace=True)"
   ]
  },
  {
   "cell_type": "code",
   "execution_count": 5,
   "metadata": {},
   "outputs": [],
   "source": [
    "location_as_json.drop(['locations', 'timestamp_ms'], axis=1, inplace=True, errors='ignore')\n",
    "location_as_json.to_csv('locations')"
   ]
  },
  {
   "cell_type": "code",
   "execution_count": 6,
   "metadata": {},
   "outputs": [],
   "source": [
    "#Need to do some magic because Google changed the way timestamps are stored at 2015-01-01 (my first time after that is 2015-01-01 00:09:53)\n",
    "#Before that, all times were computed relative to US West (I think), after that relative to phone time.\n",
    "#Options:\n",
    "#    1. I could just start at 2015. Would be sad because I have lots of data with girlfriend before\n",
    "#    2. Shift all times before 2015 to German local time (throw away the London stay because there wasn't much convo)\n",
    "#    2a. Problem is that then I would have to take care of summer/winter time by hand.\n"
   ]
  },
  {
   "cell_type": "code",
   "execution_count": 7,
   "metadata": {},
   "outputs": [],
   "source": [
    "#Now read the phone pickle\n",
    "phone_df = pd.read_pickle('phone')"
   ]
  },
  {
   "cell_type": "code",
   "execution_count": 8,
   "metadata": {},
   "outputs": [],
   "source": [
    "#Joining the phone data\n",
    "mapChat = location_as_json.copy()\n",
    "mapChat = mapChat.join(phone_df, how='outer')\n",
    "\n",
    "# Let's cut first, maybe update some other time TODO!\n",
    "i = mapChat.index.get_loc('2015-01-01 00:09:53')\n",
    "mapChat = mapChat[i:]"
   ]
  },
  {
   "cell_type": "code",
   "execution_count": 9,
   "metadata": {},
   "outputs": [],
   "source": [
    "#Fill the NaNs in latitude and longitude by interpolation:\n",
    "mapChat['latitude'].interpolate(method='time', limit_direction='forward', inplace=True)\n",
    "mapChat['longitude'].interpolate(method='time', limit_direction='forward', inplace=True)"
   ]
  },
  {
   "cell_type": "code",
   "execution_count": 10,
   "metadata": {},
   "outputs": [
    {
     "name": "stdout",
     "output_type": "stream",
     "text": [
      "15755\n",
      "[1364, 1365, 1366, 1367]\n",
      "[38.993863696767676, 9.369493806060607]\n",
      "[27.324877054343435, 6.565655260606061]\n",
      "[48.159306427272725, 11.549813945454545]\n",
      "[48.11222820992908, 11.548993081796691]\n",
      "15751\n"
     ]
    }
   ],
   "source": [
    "girlfriend_sent_lat = mapChat.loc[mapChat['girlfriend'] == 'Sent']['latitude'].values\n",
    "girlfriend_sent_lon = mapChat.loc[mapChat['girlfriend'] == 'Sent']['longitude'].values\n",
    "girlfriend_sent_pos = np.column_stack((girlfriend_sent_lat, girlfriend_sent_lon)).tolist()\n",
    "\n",
    "girlfriend_rec_lat = mapChat.loc[mapChat['girlfriend'] == 'Received']['latitude'].values\n",
    "girlfriend_rec_lon = mapChat.loc[mapChat['girlfriend'] == 'Received']['longitude'].values\n",
    "girlfriend_rec_pos = np.column_stack((girlfriend_rec_lat, girlfriend_rec_lon)).tolist()\n",
    "\n",
    "girlfriend_combined_pos = girlfriend_sent_pos + girlfriend_rec_pos\n",
    "\n",
    "print(len(girlfriend_combined_pos))\n",
    "outliers_indices = [ind for ind, loc in enumerate(girlfriend_combined_pos) if (loc[0]<40 and loc[1]<20)]\n",
    "print(outliers_indices)\n",
    "run = 0\n",
    "for ind in outliers_indices:\n",
    "    print(girlfriend_combined_pos[ind])\n",
    "    girlfriend_combined_pos.pop(ind-run)\n",
    "    run += 1\n",
    "print(len(girlfriend_combined_pos))"
   ]
  },
  {
   "cell_type": "code",
   "execution_count": 11,
   "metadata": {},
   "outputs": [],
   "source": [
    "import folium\n",
    "from folium import plugins\n",
    "heatChat = folium.Map(location=[48,12])\n",
    "heatChat.add_child(folium.plugins.HeatMap(girlfriend_combined_pos, name='All convos with girlfriend', blur=20, min_opacity=0.4, radius=20, max_val=2.0))\n",
    "\n",
    "heatChat.save('maps/heatChat.html')\n",
    "\n"
   ]
  }
 ],
 "metadata": {
  "kernelspec": {
   "display_name": "Python 3",
   "language": "python",
   "name": "python3"
  },
  "language_info": {
   "codemirror_mode": {
    "name": "ipython",
    "version": 3
   },
   "file_extension": ".py",
   "mimetype": "text/x-python",
   "name": "python",
   "nbconvert_exporter": "python",
   "pygments_lexer": "ipython3",
   "version": "3.6.4"
  },
  "widgets": {
   "state": {},
   "version": "1.1.2"
  }
 },
 "nbformat": 4,
 "nbformat_minor": 1
}
